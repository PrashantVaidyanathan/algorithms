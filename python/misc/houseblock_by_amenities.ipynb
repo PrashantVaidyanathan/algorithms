{
 "cells": [
  {
   "cell_type": "markdown",
   "source": [
    "## Problem Description\r\n",
    "Found this problem here: [YouTube Link](https://www.youtube.com/watch?v=rw4s4M3hFfs&ab_channel=Cl%C3%A9mentMihailescu).\r\n",
    "\r\n",
    "Given a list of housing blocks (arranged in a line), where each block describes a list of amenities available in that block, find a suitable block such that you minimize the distance to all the amenities you care about.\r\n",
    "\r\n",
    "Sample Input given in the below:\r\n"
   ],
   "metadata": {}
  },
  {
   "cell_type": "code",
   "execution_count": 1,
   "source": [
    "blocks = [\r\n",
    "    {\r\n",
    "        \"school\": False,\r\n",
    "        \"grocery\": True,\r\n",
    "        \"gym\": False\r\n",
    "    },\r\n",
    "    {\r\n",
    "        \"school\": True,\r\n",
    "        \"grocery\": False,\r\n",
    "        \"gym\": False\r\n",
    "    },\r\n",
    "    {\r\n",
    "        \"school\": True,\r\n",
    "        \"grocery\": True,\r\n",
    "        \"gym\": False\r\n",
    "    },\r\n",
    "    {\r\n",
    "        \"school\": False,\r\n",
    "        \"grocery\": True,\r\n",
    "        \"gym\": False\r\n",
    "    },\r\n",
    "    {\r\n",
    "        \"school\": False,\r\n",
    "        \"grocery\": True,\r\n",
    "        \"gym\": True\r\n",
    "    }\r\n",
    "]\r\n",
    "reqs = [\"gym\", \"school\"]"
   ],
   "outputs": [],
   "metadata": {}
  },
  {
   "cell_type": "code",
   "execution_count": 4,
   "source": [
    "from typing import Dict, List"
   ],
   "outputs": [],
   "metadata": {}
  },
  {
   "cell_type": "code",
   "execution_count": 19,
   "source": [
    "dist_map: Dict[int, List[float]] = {}\r\n",
    "block0 = blocks[0]\r\n",
    "dist_map[0] = []\r\n",
    "\r\n",
    "INF = float('inf')\r\n",
    "\r\n",
    "for req in reqs:\r\n",
    "    block0\r\n",
    "    if block0[req]:\r\n",
    "        dist_map[0].append(0)\r\n",
    "    else:\r\n",
    "        dist_map[0].append(INF)\r\n",
    "\r\n",
    "for i in range(1, len(blocks)):\r\n",
    "    dist_map[i] = []\r\n",
    "    for (j, req) in enumerate(reqs):\r\n",
    "        if blocks[i][req]:\r\n",
    "            dist_map[i].append(0)\r\n",
    "        elif dist_map[i-1][j] == INF:\r\n",
    "            dist_map[i].append(INF)\r\n",
    "        else:\r\n",
    "            dist_map[i].append(dist_map[i-1][j] + 1)\r\n",
    "\r\n",
    "for i in reversed(range(0, len(blocks)-1)):\r\n",
    "    for (j, req) in enumerate(reqs):\r\n",
    "        if dist_map[i][j] != 0:\r\n",
    "            if dist_map[i+1][j] != INF:\r\n",
    "                dist_map[i][j] = dist_map[i+1][j] + 1\r\n",
    "dist_map"
   ],
   "outputs": [
    {
     "output_type": "execute_result",
     "data": {
      "text/plain": [
       "{0: [4, 1], 1: [3, 0], 2: [2, 0], 3: [1, 3], 4: [0, 2]}"
      ]
     },
     "metadata": {},
     "execution_count": 19
    }
   ],
   "metadata": {}
  },
  {
   "cell_type": "code",
   "execution_count": 32,
   "source": [
    "#max_dist = {k:max(dist_map[k]) for k in dist_map}\r\n",
    "min(dist_map.items(), key =lambda x:max(x[1]))\r\n",
    "#min(dist_map, key=max(dist_map.get))"
   ],
   "outputs": [
    {
     "output_type": "execute_result",
     "data": {
      "text/plain": [
       "(2, [2, 0])"
      ]
     },
     "metadata": {},
     "execution_count": 32
    }
   ],
   "metadata": {}
  }
 ],
 "metadata": {
  "orig_nbformat": 4,
  "language_info": {
   "name": "python",
   "version": "3.8.3",
   "mimetype": "text/x-python",
   "codemirror_mode": {
    "name": "ipython",
    "version": 3
   },
   "pygments_lexer": "ipython3",
   "nbconvert_exporter": "python",
   "file_extension": ".py"
  },
  "kernelspec": {
   "name": "python3",
   "display_name": "Python 3.8.3 64-bit ('PyStationB': conda)"
  },
  "interpreter": {
   "hash": "c6ed197bfb63b3a36360312b420aa3f70a3c0d3685e881fa7cd5c6530672bc23"
  }
 },
 "nbformat": 4,
 "nbformat_minor": 2
}